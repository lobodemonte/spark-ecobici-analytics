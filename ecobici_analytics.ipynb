{
 "cells": [
  {
   "cell_type": "code",
   "execution_count": 1,
   "metadata": {},
   "outputs": [],
   "source": [
    "import datetime as dt\n",
    "import numpy as np \n",
    "import pandas as pd\n",
    "import time\n",
    "import argparse\n",
    "from pathlib import Path\n",
    "from pyspark import SparkContext\n",
    "from pyspark.sql.session import SparkSession"
   ]
  },
  {
   "cell_type": "code",
   "execution_count": 2,
   "metadata": {},
   "outputs": [],
   "source": [
    "sc = SparkContext()\n",
    "spark = SparkSession(sc)"
   ]
  },
  {
   "cell_type": "code",
   "execution_count": 3,
   "metadata": {},
   "outputs": [],
   "source": [
    "input_file = './data/2020-02.csv'\n",
    "# output_path = 'output/'"
   ]
  },
  {
   "cell_type": "code",
   "execution_count": 4,
   "metadata": {},
   "outputs": [],
   "source": [
    "def get_date_time(date, time):\n",
    "    #   Format:\n",
    "    #       28/02/2020,23:58:15,\n",
    "    #       29/02/2020,0:01:55\n",
    "    from datetime import datetime    \n",
    "    datetime_object = datetime.strptime(date+\" \"+time, '%d/%m/%Y %H:%M:%S')\n",
    "    return datetime_object\n",
    "\n",
    "def get_age_bucket(age):\n",
    "    if age < 18:\n",
    "        return \"00-18\"\n",
    "    elif age >= 18 and age <=34:\n",
    "        return \"18-34\"\n",
    "    elif age >= 35 and age <=44:\n",
    "        return \"35-44\"\n",
    "    elif age >= 45 and age <=54:\n",
    "        return \"45-54\"\n",
    "    elif age >= 55 and age <=64:\n",
    "        return \"55-64\"\n",
    "    else:\n",
    "        return \"65-UP\"\n",
    "    \n",
    "def parse_ride_records(part_id, list_of_records):\n",
    "    # Genero_Usuario,Edad_Usuario,Bici,Ciclo_Estacion_Retiro,Fecha_Retiro,Hora_Retiro,Ciclo_Estacion_Arribo,Fecha_Arribo,Hora_Arribo\n",
    "    # M,44,4357,442,1/2/2020,0:00:38,116,1/2/2020,0:35:17\n",
    "    if part_id == 0: \n",
    "        next(list_of_records) # skipping the header line\n",
    "    import csv\n",
    "    reader = csv.reader(list_of_records)\n",
    "    for row in reader:\n",
    "        gender = row[0]\n",
    "        age = int(row[1])\n",
    "        bike_id = int(row[2])\n",
    "        station_start = row[3]\n",
    "        datetime_start = get_date_time(row[4], row[5])\n",
    "        datetime_end = get_date_time(row[7], row[8])\n",
    "        station_end = row[6]\n",
    "        yield (bike_id, gender, get_age_bucket(age), station_start, station_end, datetime_start, datetime_end)"
   ]
  },
  {
   "cell_type": "markdown",
   "metadata": {},
   "source": [
    "**Questions to Answer**\n",
    "1. Top 5 stations for starting a ride.\n",
    "2. Top 5 trips based on start station and end station.\n",
    "3. Rider statistics based on average riding time by gender and age category.\n",
    "4. Find the busiest bikes in the CDMX for February 2020. How many times was it used? How many secs was it in use?"
   ]
  },
  {
   "cell_type": "code",
   "execution_count": 5,
   "metadata": {},
   "outputs": [],
   "source": [
    "def get_rides_rdd(sc, input_file):\n",
    "    print(\"Reading input file:\", input_file)\n",
    "\n",
    "    rides_rdd = sc.textFile(input_file, use_unicode=True) \\\n",
    "        .mapPartitionsWithIndex(parse_ride_records) \\\n",
    "        .cache()\n",
    "    \n",
    "    print(\"Number of partitions: \", rides_rdd.getNumPartitions())\n",
    "    return rides_rdd\n",
    "\n",
    "def get_top_start_stations(num, rides_rdd):\n",
    "    results = rides_rdd.map(lambda x: (x[3], x[6]-x[5] ) ) \\\n",
    "        .filter(lambda x: x[1].total_seconds() <= 60 * 60 * 2) \\\n",
    "        .mapValues(lambda x:  1 ) \\\n",
    "        .reduceByKey(lambda x,y: x+y) \\\n",
    "        .map(lambda x: (x[1], x[0])) \\\n",
    "        .top(num, key=lambda x: x) \n",
    "    return results\n",
    "\n",
    "def get_top_routes(num, rides_rdd): \n",
    "    results = rides_rdd.map(lambda x: ( (x[3],x[4]), x[6]-x[5] ) ) \\\n",
    "        .filter(lambda x: x[1].total_seconds() <= 60 * 60 * 2) \\\n",
    "        .mapValues(lambda x: (x.total_seconds(), 1) ) \\\n",
    "        .reduceByKey(lambda x,y: ( x[0] + y[0], x[1] + y[1] ) ) \\\n",
    "        .map(lambda x: (x[1][1], ( x[0], x[1][0]/x[1][1] ) ) ) \\\n",
    "        .top(num, key=lambda x: x)   \n",
    "    return results\n",
    "\n",
    "def get_stats_by_gender(rides_rdd):\n",
    "    results = rides_rdd.map(lambda x: (x[1], x[6]-x[5] ) ) \\\n",
    "        .filter(lambda x: x[1].total_seconds() <= 60 * 60 * 2) \\\n",
    "        .mapValues(lambda x: (x.total_seconds(), 1) ) \\\n",
    "        .reduceByKey(lambda x, y: ((x[0] + y[0]), x[1] + y[1]) ) \\\n",
    "        .mapValues(lambda x: (x[0] / x[1], x[1]) ) \\\n",
    "        .collect()\n",
    "    return results   \n",
    "\n",
    "def get_stats_by_age(rides_rdd):\n",
    "    results = rides_rdd.map(lambda x: (x[2], x[6]-x[5] ) ) \\\n",
    "        .filter(lambda x: x[1].total_seconds() <= 60 * 60 * 2) \\\n",
    "        .mapValues(lambda x: (x.total_seconds(), 1) ) \\\n",
    "        .reduceByKey(lambda x, y: ((x[0] + y[0]), x[1] + y[1]) ) \\\n",
    "        .mapValues(lambda x: (x[0] / x[1], x[1]) ) \\\n",
    "        .collect()\n",
    "    return results   \n",
    "\n",
    "def get_busy_bees(num, rides_rdd, by_count=False):\n",
    "    results = rides_rdd.map(lambda x: (x[0], x[6]-x[5] ) ) \\\n",
    "        .filter(lambda x: x[1].total_seconds() <= 60 * 60 * 2) \\\n",
    "        .mapValues(lambda x: (1, x.total_seconds())) \\\n",
    "        .reduceByKey(lambda x, y: ((x[0] + y[0]), x[1] + y[1]) ) \\\n",
    "        .map(lambda x: (x[1], x[0])) \n",
    "    \n",
    "    if by_count: #times bike was ridden\n",
    "        return results.top(num, key=lambda x: x[0][0])\n",
    "    else: #by total time ridden\n",
    "        return results.top(num, key=lambda x: x[0][1])   "
   ]
  },
  {
   "cell_type": "code",
   "execution_count": 6,
   "metadata": {},
   "outputs": [
    {
     "name": "stdout",
     "output_type": "stream",
     "text": [
      "Getting RDD of all rides... ./data/2020-02.csv\n",
      "Reading input file: ./data/2020-02.csv\n",
      "Number of partitions:  2\n"
     ]
    }
   ],
   "source": [
    "print(\"Getting RDD of all rides...\", input_file)\n",
    "rides_rdd = get_rides_rdd(sc, input_file)"
   ]
  },
  {
   "cell_type": "code",
   "execution_count": 7,
   "metadata": {},
   "outputs": [
    {
     "name": "stdout",
     "output_type": "stream",
     "text": [
      "Execution Time(secs):  16.89979600906372\n",
      "Top Starting Stations:\n",
      "Start Stations: 001, Trips: 6298\n",
      "Start Stations: 027, Trips: 6201\n",
      "Start Stations: 271, Trips: 5262\n",
      "Start Stations: 064, Trips: 4825\n",
      "Start Stations: 041, Trips: 4621\n"
     ]
    }
   ],
   "source": [
    "start = time.time()\n",
    "top_stations = get_top_start_stations(5, rides_rdd)\n",
    "print(\"Execution Time(secs): \", time.time() - start)\n",
    "print(\"Top Starting Stations:\")\n",
    "for entry in top_stations:\n",
    "    print(\"Start Stations: {:03d}, Trips: {:03d}\".format(int(entry[1]), entry[0]))"
   ]
  },
  {
   "cell_type": "code",
   "execution_count": 8,
   "metadata": {},
   "outputs": [
    {
     "name": "stdout",
     "output_type": "stream",
     "text": [
      "Execution Time(secs):  5.171604156494141\n",
      "Top Bike Routes:\n",
      "From: 033, To: 033, Total Trips: 375, Avg Duration(mins): 30.23\n",
      "From: 018, To: 001, Total Trips: 319, Avg Duration(mins): 5.58\n",
      "From: 211, To: 217, Total Trips: 303, Avg Duration(mins): 3.54\n",
      "From: 449, To: 449, Total Trips: 301, Avg Duration(mins): 15.34\n",
      "From: 208, To: 206, Total Trips: 297, Avg Duration(mins): 8.53\n"
     ]
    }
   ],
   "source": [
    "start = time.time()\n",
    "top_routes = get_top_routes(5, rides_rdd)\n",
    "print(\"Execution Time(secs): \", time.time() - start)\n",
    "print(\"Top Bike Routes:\")\n",
    "for entry in top_routes:\n",
    "    print(\"From: {:03d}, To: {:03d}, Total Trips: {:03d}, Avg Duration(mins): {:.2f}\".format(\n",
    "        int(entry[1][0][0]), int(entry[1][0][1]), entry[0], entry[1][1]/60))"
   ]
  },
  {
   "cell_type": "code",
   "execution_count": 9,
   "metadata": {},
   "outputs": [
    {
     "name": "stdout",
     "output_type": "stream",
     "text": [
      "Execution Time:  3.573302745819092\n",
      "Ride Profile by Gender: \n",
      "Gender: M, Count: 509782, Avg Ride (Mins): 13.62\n",
      "Gender: F, Count: 174808, Avg Ride (Mins): 14.30\n"
     ]
    }
   ],
   "source": [
    "start = time.time()\n",
    "gender_stats = get_stats_by_gender(rides_rdd)\n",
    "print(\"Execution Time: \", time.time() - start)\n",
    "print(\"Ride Profile by Gender: \")\n",
    "for entry in gender_stats:\n",
    "    print(\"Gender: {}, Count: {}, Avg Ride (Mins): {:.2f}\".format(entry[0], entry[1][1], entry[1][0]/60 ))"
   ]
  },
  {
   "cell_type": "code",
   "execution_count": 10,
   "metadata": {},
   "outputs": [
    {
     "name": "stdout",
     "output_type": "stream",
     "text": [
      "Execution Time:  3.59033465385437\n",
      "Ride Profile by Gender: \n",
      "Age: 35-44, Count: 167715, Avg Ride (Mins): 13.58\n",
      "Age: 18-34, Count: 392040, Avg Ride (Mins): 14.03\n",
      "Age: 45-54, Count: 077990, Avg Ride (Mins): 13.30\n",
      "Age: 55-64, Count: 035831, Avg Ride (Mins): 13.30\n",
      "Age: 00-18, Count: 001332, Avg Ride (Mins): 12.78\n",
      "Age: 65-UP, Count: 009682, Avg Ride (Mins): 13.69\n"
     ]
    }
   ],
   "source": [
    "start = time.time()\n",
    "age_stats = get_stats_by_age(rides_rdd)\n",
    "print(\"Execution Time: \", time.time() - start)\n",
    "print(\"Ride Profile by Gender: \")\n",
    "for entry in age_stats:\n",
    "    print(\"Age: {}, Count: {:06d}, Avg Ride (Mins): {:.2f}\".format(entry[0], entry[1][1], entry[1][0]/60 ))"
   ]
  },
  {
   "cell_type": "code",
   "execution_count": 11,
   "metadata": {},
   "outputs": [
    {
     "name": "stdout",
     "output_type": "stream",
     "text": [
      "Execution Time(secs):  3.7268128395080566\n",
      "Busiests Bikes By Total Minutes Ridden: \n",
      "ID: 15100, Count: 125, Minutes: 2916.57\n",
      "ID: 15059, Count: 125, Minutes: 2808.73\n",
      "ID: 10810, Count: 208, Minutes: 2785.77\n",
      "\n",
      "Time Elapsed(secs):  3.939460277557373\n",
      "Busiests Bikes By Total Rides: \n",
      "ID: 10771, Count: 217, Minutes: 1523.15\n",
      "ID: 10810, Count: 208, Minutes: 2785.77\n",
      "ID: 07854, Count: 192, Minutes: 2633.07\n"
     ]
    }
   ],
   "source": [
    "start = time.time()\n",
    "most_used_bikes = get_busy_bees(3, rides_rdd)\n",
    "print(\"Execution Time(secs): \", time.time() - start)\n",
    "print(\"Busiests Bikes By Total Minutes Ridden: \")\n",
    "for entry in most_used_bikes: \n",
    "    print(\"ID: {:03d}, Count: {}, Minutes: {:.2f}\".format(entry[1], entry[0][0], entry[0][1]/60 ))\n",
    "\n",
    "print()\n",
    "\n",
    "start = time.time()\n",
    "most_used_bikes = get_busy_bees(3, rides_rdd, True)\n",
    "print(\"Time Elapsed(secs): \", time.time() - start)\n",
    "print(\"Busiests Bikes By Total Rides: \")\n",
    "for entry in most_used_bikes: \n",
    "    print(\"ID: {:05d}, Count: {}, Minutes: {:.2f}\".format(entry[1], entry[0][0], entry[0][1]/60 ))\n"
   ]
  },
  {
   "cell_type": "code",
   "execution_count": 12,
   "metadata": {},
   "outputs": [
    {
     "name": "stdout",
     "output_type": "stream",
     "text": [
      "Done\n"
     ]
    }
   ],
   "source": [
    "print(\"Done\") "
   ]
  },
  {
   "cell_type": "code",
   "execution_count": null,
   "metadata": {},
   "outputs": [],
   "source": []
  }
 ],
 "metadata": {
  "kernelspec": {
   "display_name": "Python 3",
   "language": "python",
   "name": "python3"
  },
  "language_info": {
   "codemirror_mode": {
    "name": "ipython",
    "version": 3
   },
   "file_extension": ".py",
   "mimetype": "text/x-python",
   "name": "python",
   "nbconvert_exporter": "python",
   "pygments_lexer": "ipython3",
   "version": "3.7.6"
  }
 },
 "nbformat": 4,
 "nbformat_minor": 4
}
