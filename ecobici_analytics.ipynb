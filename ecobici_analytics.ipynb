{
 "cells": [
  {
   "cell_type": "code",
   "execution_count": 14,
   "metadata": {},
   "outputs": [],
   "source": [
    "import datetime as dt\n",
    "import numpy as np \n",
    "import pandas as pd\n",
    "import time\n",
    "import argparse\n",
    "from pathlib import Path\n",
    "from pyspark import SparkContext\n",
    "from pyspark.sql.session import SparkSession"
   ]
  },
  {
   "cell_type": "code",
   "execution_count": 15,
   "metadata": {},
   "outputs": [],
   "source": [
    "sc = SparkContext()\n",
    "spark = SparkSession(sc)"
   ]
  },
  {
   "cell_type": "code",
   "execution_count": 16,
   "metadata": {},
   "outputs": [],
   "source": [
    "input_file = './data/2020-02.csv'\n",
    "output_path = 'output/'"
   ]
  },
  {
   "cell_type": "code",
   "execution_count": 17,
   "metadata": {},
   "outputs": [
    {
     "name": "stdout",
     "output_type": "stream",
     "text": [
      "Number of partitions:  2\n"
     ]
    }
   ],
   "source": [
    "month_rides = sc.textFile(input_file, use_unicode=True).cache()\n",
    "print(\"Number of partitions: \", month_rides.getNumPartitions())"
   ]
  },
  {
   "cell_type": "code",
   "execution_count": 95,
   "metadata": {},
   "outputs": [],
   "source": [
    "def get_date_time(date, time):\n",
    "    #   Format:\n",
    "    #       28/02/2020,23:58:15,\n",
    "    #       29/02/2020,0:01:55\n",
    "    from datetime import datetime    \n",
    "    datetime_object = datetime.strptime(date+\" \"+time, '%d/%m/%Y %H:%M:%S')\n",
    "    return datetime_object\n",
    "\n",
    "def parse_ride_records(part_id, list_of_records):\n",
    "    # Genero_Usuario,Edad_Usuario,Bici,Ciclo_Estacion_Retiro,Fecha_Retiro,Hora_Retiro,Ciclo_Estacion_Arribo,Fecha_Arribo,Hora_Arribo\n",
    "    # M,44,4357,442,1/2/2020,0:00:38,116,1/2/2020,0:35:17\n",
    "    if part_id == 0: \n",
    "        next(list_of_records) # skipping the header line\n",
    "    import csv\n",
    "    reader = csv.reader(list_of_records)\n",
    "    for row in reader:\n",
    "        gender = row[0]\n",
    "        age = int(row[1])\n",
    "        bike_id = int(row[2])\n",
    "        station_start = row[3]\n",
    "        datetime_start = get_date_time(row[4], row[5])\n",
    "        datetime_end = get_date_time(row[7], row[8])\n",
    "        station_end = row[6]\n",
    "\n",
    "        yield (bike_id, gender, age, station_start, station_end, datetime_start, datetime_end)"
   ]
  },
  {
   "cell_type": "markdown",
   "metadata": {},
   "source": [
    "1. Top 5 stations by most starts\n",
    "2. Most popular trips based on start station and end station\n",
    "3. Rider performance based on avg. bike ride time by gender\n",
    "4. What is the busiest bike in the CDMX in February 2020? \n",
    "   a. How many times was it used? \n",
    "   b. How many secs was it in use?"
   ]
  },
  {
   "cell_type": "code",
   "execution_count": 115,
   "metadata": {},
   "outputs": [],
   "source": [
    "def get_rides_rdd(sc, input_file):\n",
    "    print(\"Reading input file:\", input_file)\n",
    "\n",
    "    rides_rdd = sc.textFile(input_file, use_unicode=True) \\\n",
    "        .mapPartitionsWithIndex(parse_ride_records).cache()\n",
    "    \n",
    "    print(\"Number of partitions: \", rides_rdd.getNumPartitions())\n",
    "    return rides_rdd\n",
    "\n",
    "def get_top_start_stations(num, rides_rdd):\n",
    "    results = rides_rdd.map(lambda x: (x[3], x[6]-x[5] ) ) \\\n",
    "        .filter(lambda x: x[1].total_seconds() <= 60 * 60 * 2) \\\n",
    "        .map(lambda x: ( x[0], 1 ) ) \\\n",
    "        .reduceByKey(lambda x,y: x+y) \\\n",
    "        .map(lambda x: (x[1], x[0])) \\\n",
    "        .top(num, key=lambda x: x) \n",
    "    return results\n",
    "\n",
    "def get_top_routes(num, rides_rdd): \n",
    "    results = rides_rdd.map(lambda x: ( (x[3],x[4]), x[6]-x[5] ) ) \\\n",
    "        .filter(lambda x: x[1].total_seconds() <= 60 * 60 * 2) \\\n",
    "        .map(lambda x: ( x[0], 1 ) ) \\\n",
    "        .reduceByKey(lambda x,y: x + y) \\\n",
    "        .map(lambda x: (x[1], x[0])) \\\n",
    "        .top(num, key=lambda x: x)   \n",
    "    return results\n",
    "\n",
    "def get_performance_by_gender(rides_rdd):\n",
    "    results = rides_rdd.map(lambda x: (x[1], x[6]-x[5] ) ) \\\n",
    "        .filter(lambda x: x[1].total_seconds() <= 60 * 60 * 2) \\\n",
    "        .mapValues(lambda x: (x.total_seconds(), 1) ) \\\n",
    "        .reduceByKey(lambda x, y: ((x[0] + y[0]), x[1] + y[1]) ) \\\n",
    "        .mapValues(lambda x: (x[0] / x[1], x[1]) ) \\\n",
    "        .collect()\n",
    "    return results   \n",
    "\n",
    "def get_busy_bees(num, rides_rdd, by_count=False):\n",
    "    results = rides_rdd.map(lambda x: (x[0], x[6]-x[5] ) ) \\\n",
    "        .filter(lambda x: x[1].total_seconds() <= 60 * 60 * 2) \\\n",
    "        .mapValues(lambda x: (1, x.total_seconds())) \\\n",
    "        .reduceByKey(lambda x, y: ((x[0] + y[0]), x[1] + y[1]) ) \\\n",
    "        .map(lambda x: (x[1], x[0])) \n",
    "    \n",
    "    if by_count: #times bike was ridden\n",
    "        return results.top(num, key=lambda x: x[0])\n",
    "    else: #by total time ridden\n",
    "        return results.top(num, key=lambda x: x[1])   "
   ]
  },
  {
   "cell_type": "code",
   "execution_count": 100,
   "metadata": {},
   "outputs": [
    {
     "name": "stdout",
     "output_type": "stream",
     "text": [
      "Getting RDD of all rides... ./data/2020-02.csv\n",
      "Reading input file: ./data/2020-02.csv\n",
      "Number of partitions:  2\n"
     ]
    }
   ],
   "source": [
    "print(\"Getting RDD of all rides...\", input_file)\n",
    "rides_rdd = get_rides_rdd(sc, input_file)"
   ]
  },
  {
   "cell_type": "code",
   "execution_count": 132,
   "metadata": {},
   "outputs": [
    {
     "name": "stdout",
     "output_type": "stream",
     "text": [
      "Time Elapsed:  3.940264940261841\n",
      "Top Starting Stations:\n",
      "Start Stations: 001, Trips: 6298\n",
      "Start Stations: 027, Trips: 6201\n",
      "Start Stations: 271, Trips: 5262\n",
      "Start Stations: 064, Trips: 4825\n",
      "Start Stations: 041, Trips: 4621\n"
     ]
    }
   ],
   "source": [
    "start = time.time()\n",
    "top_stations = get_top_start_stations(5, rides_rdd)\n",
    "print(\"Time Elapsed: \", time.time() - start)\n",
    "print(\"Top Starting Stations:\")\n",
    "for entry in top_stations:\n",
    "    print(\"Start Stations: {:03d}, Trips: {:03d}\".format(int(entry[1]), entry[0]))"
   ]
  },
  {
   "cell_type": "code",
   "execution_count": 133,
   "metadata": {},
   "outputs": [
    {
     "name": "stdout",
     "output_type": "stream",
     "text": [
      "Time Elapsed:  5.044939994812012\n",
      "Top Bike Routes:\n",
      "From: 033, To: 033, Total Trips: 375\n",
      "From: 018, To: 001, Total Trips: 319\n",
      "From: 211, To: 217, Total Trips: 303\n",
      "From: 449, To: 449, Total Trips: 301\n",
      "From: 208, To: 206, Total Trips: 297\n"
     ]
    }
   ],
   "source": [
    "start = time.time()\n",
    "top_routes = get_top_routes(5, rides_rdd)\n",
    "print(\"Time Elapsed: \", time.time() - start)\n",
    "print(\"Top Bike Routes:\")\n",
    "for entry in top_routes:\n",
    "    print(\"From: {:03d}, To: {:03d}, Total Trips: {:03d}\".format(int(entry[1][0]), int(entry[1][1]), entry[0]))"
   ]
  },
  {
   "cell_type": "code",
   "execution_count": 123,
   "metadata": {},
   "outputs": [
    {
     "name": "stdout",
     "output_type": "stream",
     "text": [
      "Time Elapsed:  3.7220823764801025\n",
      "Gender Performance: \n",
      "Gender: M, Count: 509782, Avg Ride (Mins): 13.62\n",
      "Gender: F, Count: 174808, Avg Ride (Mins): 14.30\n"
     ]
    }
   ],
   "source": [
    "start = time.time()\n",
    "gender_perf = get_performance_by_gender(rides_rdd)\n",
    "print(\"Time Elapsed: \", time.time() - start)\n",
    "print(\"Gender Performance: \")\n",
    "for entry in gender_perf:\n",
    "    print(\"Gender: {}, Count: {}, Avg Ride (Mins): {:.2f}\".format(entry[0], entry[1][1], entry[1][0]/60 ))\n"
   ]
  },
  {
   "cell_type": "code",
   "execution_count": 121,
   "metadata": {},
   "outputs": [
    {
     "name": "stdout",
     "output_type": "stream",
     "text": [
      "Time Elapsed:  3.997042655944824\n",
      "Top Bike Routes By Total Minutes: \n",
      "ID: 15339, Count: 105, Minutes: 2162.63\n",
      "ID: 15338, Count: 13, Minutes: 316.37\n",
      "ID: 15337, Count: 67, Minutes: 1409.97\n",
      "\n",
      "Time Elapsed:  3.7950901985168457\n",
      "Top Bike Routes By Count: \n",
      "ID: 10771, Count: 217, Minutes: 1523.15\n",
      "ID: 10810, Count: 208, Minutes: 2785.77\n",
      "ID: 7854, Count: 192, Minutes: 2633.07\n"
     ]
    }
   ],
   "source": [
    "start = time.time()\n",
    "most_used_bikes = get_busy_bees(3, rides_rdd)\n",
    "print(\"Time Elapsed: \", time.time() - start)\n",
    "print(\"Top Bike Routes By Total Minutes: \")\n",
    "for entry in most_used_bikes: \n",
    "    print(\"ID: {}, Count: {}, Minutes: {:.2f}\".format(entry[1], entry[0][0], entry[0][1]/60 ))\n",
    "\n",
    "print()\n",
    "\n",
    "start = time.time()\n",
    "most_used_bikes = get_busy_bees(3, rides_rdd, True)\n",
    "print(\"Time Elapsed: \", time.time() - start)\n",
    "print(\"Top Bike Routes By Count: \")\n",
    "for entry in most_used_bikes: \n",
    "    print(\"ID: {}, Count: {}, Minutes: {:.2f}\".format(entry[1], entry[0][0], entry[0][1]/60 ))\n"
   ]
  },
  {
   "cell_type": "code",
   "execution_count": 118,
   "metadata": {},
   "outputs": [
    {
     "name": "stdout",
     "output_type": "stream",
     "text": [
      "Done\n"
     ]
    }
   ],
   "source": [
    "print(\"Done\") "
   ]
  },
  {
   "cell_type": "code",
   "execution_count": null,
   "metadata": {},
   "outputs": [],
   "source": []
  }
 ],
 "metadata": {
  "kernelspec": {
   "display_name": "Python 3",
   "language": "python",
   "name": "python3"
  },
  "language_info": {
   "codemirror_mode": {
    "name": "ipython",
    "version": 3
   },
   "file_extension": ".py",
   "mimetype": "text/x-python",
   "name": "python",
   "nbconvert_exporter": "python",
   "pygments_lexer": "ipython3",
   "version": "3.7.6"
  }
 },
 "nbformat": 4,
 "nbformat_minor": 4
}
