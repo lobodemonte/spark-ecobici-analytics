{
 "cells": [
  {
   "cell_type": "code",
   "execution_count": 14,
   "metadata": {},
   "outputs": [],
   "source": [
    "import datetime as dt\n",
    "import numpy as np \n",
    "import pandas as pd\n",
    "import time\n",
    "import argparse\n",
    "from pathlib import Path\n",
    "from pyspark import SparkContext\n",
    "from pyspark.sql.session import SparkSession\n",
    "\n",
    "# start = time.time()\n",
    "# print(\"hello\")\n",
    "# end = time.time()\n",
    "# print(end - start)"
   ]
  },
  {
   "cell_type": "code",
   "execution_count": 15,
   "metadata": {},
   "outputs": [],
   "source": [
    "sc = SparkContext()\n",
    "spark = SparkSession(sc)"
   ]
  },
  {
   "cell_type": "code",
   "execution_count": 16,
   "metadata": {},
   "outputs": [],
   "source": [
    "input_file = './data/2020-02.csv'\n",
    "output_path = 'output/'"
   ]
  },
  {
   "cell_type": "code",
   "execution_count": 17,
   "metadata": {},
   "outputs": [
    {
     "name": "stdout",
     "output_type": "stream",
     "text": [
      "Number of partitions:  2\n"
     ]
    }
   ],
   "source": [
    "month_rides = sc.textFile(input_file, use_unicode=True).cache()\n",
    "print(\"Number of partitions: \", month_rides.getNumPartitions())"
   ]
  },
  {
   "cell_type": "code",
   "execution_count": 62,
   "metadata": {},
   "outputs": [],
   "source": [
    "# Genero_Usuario,Edad_Usuario,Bici,Ciclo_Estacion_Retiro,Fecha_Retiro,Hora_Retiro,Ciclo_Estacion_Arribo,Fecha_Arribo,Hora_Arribo\n",
    "# M,44,4357,442,1/2/2020,0:00:38,116,1/2/2020,0:35:17\n",
    "\n",
    "def get_date_time(date, time):\n",
    "    #   Format:\n",
    "    #       28/02/2020,23:58:15,\n",
    "    #       29/02/2020,0:01:55\n",
    "    from datetime import datetime    \n",
    "    datetime_object = datetime.strptime(date+\" \"+time, '%d/%m/%Y %H:%M:%S')\n",
    "    return datetime_object\n",
    "\n",
    "\n",
    "def parse_ride_records(part_id, list_of_records):\n",
    "    if part_id == 0: \n",
    "        next(list_of_records) # skipping the header line\n",
    "    import csv\n",
    "    reader = csv.reader(list_of_records)\n",
    "    for row in reader:\n",
    "        gender = row[0]\n",
    "        age = int(row[1])\n",
    "        bike_id = int(row[2])\n",
    "        station_start = row[3]\n",
    "        datetime_start = get_date_time(row[4], row[5])\n",
    "        datetime_end = get_date_time(row[7], row[8])\n",
    "        station_end = row[6]\n",
    "\n",
    "        yield (bike_id, gender, age, station_start, station_end, datetime_start, datetime_end)\n",
    "\n",
    "def parse_start_stations(part_id, list_of_records):\n",
    "    if part_id == 0: \n",
    "        next(list_of_records) # skipping the header line\n",
    "    import csv\n",
    "    reader = csv.reader(list_of_records)\n",
    "    for row in reader:\n",
    "        bike_id = int(row[2])\n",
    "        station_start = row[3]\n",
    "        \n",
    "        datetime_start = get_date_time(row[4], row[5])\n",
    "        datetime_end = get_date_time(row[7], row[8])\n",
    "        \n",
    "        yield (station_start, datetime_end-datetime_start)\n"
   ]
  },
  {
   "cell_type": "code",
   "execution_count": null,
   "metadata": {},
   "outputs": [],
   "source": []
  },
  {
   "cell_type": "markdown",
   "metadata": {},
   "source": [
    "1. Top 5 stations by most starts\n",
    "   a. In the morning (6-10 am)\n",
    "   b. In the evening (4-8 pm)\n",
    "2. Trip duration by user type\n",
    "3. Most popular trips based on start station and end station)\n",
    "4. Rider performance by Gender and Age based on avg trip distance (station to station), median speed (trip duration / distance traveled)\n",
    "5. What is the busiest bike in the CDMX in February 2020? How many times was it used? How many minutes was it in use?\n",
    "6. Find the mean and standard dev of trip tim"
   ]
  },
  {
   "cell_type": "code",
   "execution_count": 71,
   "metadata": {},
   "outputs": [],
   "source": [
    "def get_rides_rdd(sc, input_file):\n",
    "    print(\"Reading input file:\", input_file)\n",
    "\n",
    "    rides_rdd = sc.textFile(input_file, use_unicode=True) \\\n",
    "        .mapPartitionsWithIndex(parse_ride_records).cache()\n",
    "    \n",
    "    print(\"Number of partitions: \", rides_rdd.getNumPartitions())\n",
    "    return rides_rdd\n",
    "\n",
    "def get_top_stations(num, rides_rdd):\n",
    "    results = rides_rdd.map(lambda x: (x[3], x[6]-x[5] ) ) \\\n",
    "        .filter(lambda x: x[1].total_seconds() <= 60 * 60 * 2) \\\n",
    "        .map(lambda x: ( x[0], 1 ) ) \\\n",
    "        .reduceByKey(lambda x,y: x+y) \\\n",
    "        .map(lambda x: (x[1], x[0])) \\\n",
    "        .top(num, key=lambda x: x) \\\n",
    "\n",
    "    return results"
   ]
  },
  {
   "cell_type": "code",
   "execution_count": 72,
   "metadata": {},
   "outputs": [
    {
     "name": "stdout",
     "output_type": "stream",
     "text": [
      "Reading input file: ./data/2020-02.csv\n",
      "Number of partitions:  2\n",
      "Saving...\n",
      "[(6298, '1'), (6201, '27'), (5262, '271'), (4825, '64'), (4621, '41')]\n",
      "Done\n"
     ]
    }
   ],
   "source": [
    "start = time.time()\n",
    "\n",
    "rides_rdd = get_rides_rdd(sc, input_file)\n",
    "\n",
    "top_stations = get_top_stations(5, rides_rdd)\n",
    "print(top_stations)\n",
    "\n",
    "\n",
    "print(time.time() - start)\n",
    "print(\"Done\")"
   ]
  },
  {
   "cell_type": "code",
   "execution_count": null,
   "metadata": {},
   "outputs": [],
   "source": []
  }
 ],
 "metadata": {
  "kernelspec": {
   "display_name": "Python 3",
   "language": "python",
   "name": "python3"
  },
  "language_info": {
   "codemirror_mode": {
    "name": "ipython",
    "version": 3
   },
   "file_extension": ".py",
   "mimetype": "text/x-python",
   "name": "python",
   "nbconvert_exporter": "python",
   "pygments_lexer": "ipython3",
   "version": "3.7.6"
  }
 },
 "nbformat": 4,
 "nbformat_minor": 4
}
